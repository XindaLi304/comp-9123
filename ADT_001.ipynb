{
  "nbformat": 4,
  "nbformat_minor": 0,
  "metadata": {
    "colab": {
      "provenance": [],
      "authorship_tag": "ABX9TyON2ZImGKDN7hUdQNHlxER+",
      "include_colab_link": true
    },
    "kernelspec": {
      "name": "python3",
      "display_name": "Python 3"
    },
    "language_info": {
      "name": "python"
    }
  },
  "cells": [
    {
      "cell_type": "markdown",
      "metadata": {
        "id": "view-in-github",
        "colab_type": "text"
      },
      "source": [
        "<a href=\"https://colab.research.google.com/github/XindaLi304/comp-9123/blob/main/ADT_001.ipynb\" target=\"_parent\"><img src=\"https://colab.research.google.com/assets/colab-badge.svg\" alt=\"Open In Colab\"/></a>"
      ]
    },
    {
      "cell_type": "markdown",
      "source": [
        "experiment of the method iter() for ADTs"
      ],
      "metadata": {
        "id": "QGOVa__L6mYZ"
      }
    },
    {
      "cell_type": "code",
      "execution_count": 15,
      "metadata": {
        "colab": {
          "base_uri": "https://localhost:8080/"
        },
        "id": "QkEMxnuF6eMe",
        "outputId": "d61ec7e9-285f-481a-a9d0-2b40c39b8292"
      },
      "outputs": [
        {
          "output_type": "stream",
          "name": "stdout",
          "text": [
            "10\n",
            "9\n",
            "8\n",
            "7\n",
            "6\n",
            "5\n",
            "4\n",
            "3\n",
            "2\n",
            "1\n",
            "0\n"
          ]
        }
      ],
      "source": [
        "class myclass():\n",
        "  def __init__(self,num) -> None:\n",
        "     self.start=num\n",
        "  def __iter__(self):\n",
        "    self.current=self.start\n",
        "    return self\n",
        "  def __next__(self):\n",
        "    if self.current<0:\n",
        "      raise StopIteration\n",
        "    else:\n",
        "      self.current-=1\n",
        "      return self.current+1\n",
        "\n",
        "for i in myclass(10):\n",
        "  print(i)"
      ]
    },
    {
      "cell_type": "markdown",
      "source": [
        "experiment of different iterators in python:\n",
        "\n",
        "\n",
        "*   snapshot\n",
        "*   dynamically changing\n",
        "\n"
      ],
      "metadata": {
        "id": "UKaPHa_h6wxe"
      }
    },
    {
      "cell_type": "code",
      "source": [
        "#1.snapshot use copy for mutable ADT\n",
        "\n",
        "my_list=[1,2,3,4,5,6,7]\n",
        "\n",
        "for i in my_list.copy():\n",
        "  my_list[3]+=i\n",
        "  print(i)\n",
        "for i in my_list:\n",
        "  print(i)"
      ],
      "metadata": {
        "colab": {
          "base_uri": "https://localhost:8080/"
        },
        "collapsed": true,
        "id": "cgKwu7Wa6_pO",
        "outputId": "19fd3a96-38b0-4c5d-8f6b-ec60739a3437"
      },
      "execution_count": 4,
      "outputs": [
        {
          "output_type": "stream",
          "name": "stdout",
          "text": [
            "1\n",
            "2\n",
            "3\n",
            "4\n",
            "5\n",
            "6\n",
            "7\n",
            "1\n",
            "2\n",
            "3\n",
            "32\n",
            "5\n",
            "6\n",
            "7\n"
          ]
        }
      ]
    },
    {
      "cell_type": "code",
      "source": [
        "#2. dynamic chaning\n",
        "from collections import deque\n",
        "my_list=deque([1,2,3,4,5,6,7])\n",
        "\n",
        "for i in my_list:\n",
        "  my_list[3]+=i\n",
        "  print(i)\n",
        "for i in my_list:\n",
        "  print(i)"
      ],
      "metadata": {
        "colab": {
          "base_uri": "https://localhost:8080/"
        },
        "collapsed": true,
        "id": "AHjz0Z228cxT",
        "outputId": "cdaf3d39-c5ab-4fbe-bb19-2d3fa8fbeadf"
      },
      "execution_count": 6,
      "outputs": [
        {
          "output_type": "stream",
          "name": "stdout",
          "text": [
            "1\n",
            "2\n",
            "3\n",
            "10\n",
            "5\n",
            "6\n",
            "7\n",
            "1\n",
            "2\n",
            "3\n",
            "38\n",
            "5\n",
            "6\n",
            "7\n"
          ]
        }
      ]
    },
    {
      "cell_type": "code",
      "source": [
        "my_list=[1,2,3,4,5,6,7]\n",
        "\n",
        "for i in my_list:\n",
        "  my_list[3]+=i\n",
        "  print(i)\n",
        "for i in my_list:\n",
        "  print(i)"
      ],
      "metadata": {
        "colab": {
          "base_uri": "https://localhost:8080/"
        },
        "collapsed": true,
        "id": "fnLPRvxw88GC",
        "outputId": "8ef23ed1-5abd-4e12-f7c1-ac46a4c7041a"
      },
      "execution_count": 7,
      "outputs": [
        {
          "output_type": "stream",
          "name": "stdout",
          "text": [
            "1\n",
            "2\n",
            "3\n",
            "10\n",
            "5\n",
            "6\n",
            "7\n",
            "1\n",
            "2\n",
            "3\n",
            "38\n",
            "5\n",
            "6\n",
            "7\n"
          ]
        }
      ]
    },
    {
      "cell_type": "code",
      "source": [
        "new_list = [1, 2, 3, 4, 5]\n",
        "\n",
        "for item in new_list:\n",
        "    print(item)\n",
        "    if item == 3:\n",
        "        new_list.append(6)\n"
      ],
      "metadata": {
        "colab": {
          "base_uri": "https://localhost:8080/"
        },
        "collapsed": true,
        "id": "3QbTSwVf-Ocn",
        "outputId": "548dbd32-1d5e-4e23-fc16-049173ce470b"
      },
      "execution_count": 10,
      "outputs": [
        {
          "output_type": "stream",
          "name": "stdout",
          "text": [
            "1\n",
            "2\n",
            "3\n",
            "4\n",
            "5\n",
            "6\n"
          ]
        }
      ]
    },
    {
      "cell_type": "code",
      "source": [
        "my_list = [1, 2, 3, 4, 5]\n",
        "\n",
        "for item in my_list:\n",
        "    if item == 2:\n",
        "        my_list.remove(3)\n",
        "    print(item)"
      ],
      "metadata": {
        "colab": {
          "base_uri": "https://localhost:8080/"
        },
        "collapsed": true,
        "id": "L85-Kc8R-YQX",
        "outputId": "3ebcadbd-d67b-4c6e-db6e-45f9b3a430f8"
      },
      "execution_count": 11,
      "outputs": [
        {
          "output_type": "stream",
          "name": "stdout",
          "text": [
            "1\n",
            "2\n",
            "4\n",
            "5\n"
          ]
        }
      ]
    },
    {
      "cell_type": "markdown",
      "source": [
        "the set(i,e), add, remove  operation looks ok for both implmentation, but it might be unpredictable in some scenarios."
      ],
      "metadata": {
        "id": "F57Bj0zE-Esk"
      }
    },
    {
      "cell_type": "markdown",
      "source": [
        "Skipped Elements Due to Removal in Loop"
      ],
      "metadata": {
        "id": "BIS3McrKBvdk"
      }
    },
    {
      "cell_type": "code",
      "source": [
        "my_list = [1, 2, 3, 4, 5, 6]\n",
        "\n",
        "for item in my_list:\n",
        "    if item % 2 == 0:\n",
        "        my_list.remove(item)\n",
        "    print(item)\n"
      ],
      "metadata": {
        "colab": {
          "base_uri": "https://localhost:8080/"
        },
        "id": "kYoE0PV4BBQF",
        "outputId": "0af3f8dd-932a-42ef-85ff-d5dda1c74646"
      },
      "execution_count": 14,
      "outputs": [
        {
          "output_type": "stream",
          "name": "stdout",
          "text": [
            "1\n",
            "2\n",
            "4\n",
            "6\n"
          ]
        }
      ]
    }
  ]
}